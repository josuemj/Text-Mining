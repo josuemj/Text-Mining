{
 "cells": [
  {
   "cell_type": "markdown",
   "id": "0f9a7959",
   "metadata": {},
   "source": [
    "# Laboratorio 5"
   ]
  },
  {
   "cell_type": "markdown",
   "id": "15ea804d",
   "metadata": {},
   "source": [
    "## 1,2 Descargar el dataset y cargar con python"
   ]
  },
  {
   "cell_type": "code",
   "execution_count": 1,
   "id": "e24b525c",
   "metadata": {},
   "outputs": [],
   "source": [
    "#libs\n",
    "import pandas as pd"
   ]
  },
  {
   "cell_type": "code",
   "execution_count": 2,
   "id": "cef160fc",
   "metadata": {},
   "outputs": [],
   "source": [
    "data = pd.read_csv('train.csv', encoding='latin-1')"
   ]
  },
  {
   "cell_type": "markdown",
   "id": "cee79fc6",
   "metadata": {},
   "source": [
    "## 3, Limpieza"
   ]
  }
 ],
 "metadata": {
  "kernelspec": {
   "display_name": "Python 3",
   "language": "python",
   "name": "python3"
  },
  "language_info": {
   "codemirror_mode": {
    "name": "ipython",
    "version": 3
   },
   "file_extension": ".py",
   "mimetype": "text/x-python",
   "name": "python",
   "nbconvert_exporter": "python",
   "pygments_lexer": "ipython3",
   "version": "3.13.1"
  }
 },
 "nbformat": 4,
 "nbformat_minor": 5
}
